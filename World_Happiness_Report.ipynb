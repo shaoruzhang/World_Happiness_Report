{
  "nbformat": 4,
  "nbformat_minor": 0,
  "metadata": {
    "colab": {
      "name": "World_Happiness_Report.ipynb",
      "provenance": [],
      "collapsed_sections": []
    },
    "kernelspec": {
      "display_name": "Python 3",
      "name": "python3"
    },
    "language_info": {
      "name": "python"
    }
  },
  "cells": [
    {
      "cell_type": "code",
      "metadata": {
        "id": "IhJ-RbKOJWIO"
      },
      "source": [
        "#import necessary packages\n",
        "import requests \n",
        "from bs4 import BeautifulSoup"
      ],
      "execution_count": null,
      "outputs": []
    },
    {
      "cell_type": "code",
      "metadata": {
        "id": "txRBAHAZHbHQ"
      },
      "source": [
        "#Retrieve the html through request\n",
        "url = \"https://en.wikipedia.org/wiki/World_Happiness_Report\"\n",
        "page= requests.get (url)"
      ],
      "execution_count": null,
      "outputs": []
    },
    {
      "cell_type": "code",
      "metadata": {
        "id": "6nU7UbP3H2gh"
      },
      "source": [
        "#The html retrieved using the request module above\n",
        "page.content"
      ],
      "execution_count": null,
      "outputs": []
    },
    {
      "cell_type": "code",
      "metadata": {
        "id": "GnSvBUp4K0ZD"
      },
      "source": [
        "#Use beautifulsoup to parse the html and .prettify() make html into readable format\n",
        "soup = BeautifulSoup (page.content, 'html.parser')\n",
        "print(soup.prettify())"
      ],
      "execution_count": null,
      "outputs": []
    },
    {
      "cell_type": "code",
      "metadata": {
        "id": "v7O-2YHcLkb9"
      },
      "source": [
        "#Since we are scraping from a table, we use soup.findall to find all 'table' tags.\n",
        "All_table = soup.findAll('table')\n",
        "All_table"
      ],
      "execution_count": null,
      "outputs": []
    },
    {
      "cell_type": "code",
      "metadata": {
        "id": "YemqzcWCMbh9"
      },
      "source": [
        "#Look at raw html, count # of html tags untill you find the one we want, which is the 9th table\n",
        "All_table[9]"
      ],
      "execution_count": null,
      "outputs": []
    },
    {
      "cell_type": "code",
      "metadata": {
        "id": "MI_0Pw4tNmMk"
      },
      "source": [
        "#The table that we want has a class of 'wikitable sortable'\n",
        "#use .find() to find one instance of it\n",
        "table = soup.find ('table', class_= 'wikitable sortable')\n",
        "table"
      ],
      "execution_count": null,
      "outputs": []
    },
    {
      "cell_type": "code",
      "metadata": {
        "id": "KgR6WmPXIAFR"
      },
      "source": [
        "#Creating lists for columns in the table \n",
        "L1 = []\n",
        "L2 = []\n",
        "L3 = []\n",
        "L4 = []\n",
        "L5 = []\n",
        "L6 = []\n",
        "L7 = []\n",
        "L8 = []\n",
        "L9 = []\n",
        "\n",
        "for row in table.findAll('tr'):  #For each table row, we want to run through each table data and get the text\n",
        "  cells = row.findAll('td')     \n",
        "  if(len(cells) == 9):  #If the length of the table data is 9, because there exists 9 columns, then we can use .find(text=True) to extract the numbers. \n",
        "    L1.append(cells[0].find(text=True).rstrip(\"\\n\"))\n",
        "    # Ran into an error where it was printing ‘\\xa0’, I suspect that it’s because they had an image of the flag first, so I used .get_text(strip=True) instead to extract only the name of the country.\n",
        "    L2.append(cells[1].get_text(strip=True).rstrip(\"\\n\")) #Only non-numerical text, only want name of country\n",
        "    L3.append(cells[2].find(text=True).rstrip(\"\\n\"))\n",
        "    L4.append(cells[3].find(text=True).rstrip(\"\\n\"))\n",
        "    L5.append(cells[4].find(text=True).rstrip(\"\\n\"))\n",
        "    L6.append(cells[5].find(text=True).rstrip(\"\\n\"))\n",
        "    L7.append(cells[6].find(text=True).rstrip(\"\\n\"))\n",
        "    L8.append(cells[7].find(text=True).rstrip(\"\\n\"))\n",
        "    L9.append(cells[8].find(text=True).rstrip(\"\\n\"))  \n",
        "\n"
      ],
      "execution_count": null,
      "outputs": []
    },
    {
      "cell_type": "code",
      "metadata": {
        "colab": {
          "base_uri": "https://localhost:8080/",
          "height": 518
        },
        "id": "p-o9gdd3w0dI",
        "outputId": "2aa0fc8b-c8d3-4b67-b946-6202778e694d"
      },
      "source": [
        "#Creating dataframe\n",
        "import pandas as pd\n",
        "df=pd.DataFrame()\n",
        "#Conver list to dataframe\n",
        "#Each list goes into their respective columns in the dataframe\n",
        "df['Overall rank'] = L1\n",
        "df['Country or region'] = L2\n",
        "df['Score'] = L3\n",
        "df['GDP per capita'] = L4\n",
        "df['Social support'] = L5\n",
        "df['Healthy life expectancy'] = L6\n",
        "df['Freedom to make life choices'] = L7\n",
        "df['Generosity'] = L8\n",
        "df['Perceptions of corruption'] = L9\n",
        "\n",
        "#.set_index to overall rank since pandas automatically assigns their own column of indexes starting with 0, which we don’t need.\n",
        "df.set_index('Overall rank', inplace=True)\n",
        "df"
      ],
      "execution_count": null,
      "outputs": [
        {
          "output_type": "execute_result",
          "data": {
            "text/html": [
              "<div>\n",
              "<style scoped>\n",
              "    .dataframe tbody tr th:only-of-type {\n",
              "        vertical-align: middle;\n",
              "    }\n",
              "\n",
              "    .dataframe tbody tr th {\n",
              "        vertical-align: top;\n",
              "    }\n",
              "\n",
              "    .dataframe thead th {\n",
              "        text-align: right;\n",
              "    }\n",
              "</style>\n",
              "<table border=\"1\" class=\"dataframe\">\n",
              "  <thead>\n",
              "    <tr style=\"text-align: right;\">\n",
              "      <th></th>\n",
              "      <th>Country or region</th>\n",
              "      <th>Score</th>\n",
              "      <th>GDP per capita</th>\n",
              "      <th>Social support</th>\n",
              "      <th>Healthy life expectancy</th>\n",
              "      <th>Freedom to make life choices</th>\n",
              "      <th>Generosity</th>\n",
              "      <th>Perceptions of corruption</th>\n",
              "    </tr>\n",
              "    <tr>\n",
              "      <th>Overall rank</th>\n",
              "      <th></th>\n",
              "      <th></th>\n",
              "      <th></th>\n",
              "      <th></th>\n",
              "      <th></th>\n",
              "      <th></th>\n",
              "      <th></th>\n",
              "      <th></th>\n",
              "    </tr>\n",
              "  </thead>\n",
              "  <tbody>\n",
              "    <tr>\n",
              "      <th>1</th>\n",
              "      <td>Finland</td>\n",
              "      <td>7.809</td>\n",
              "      <td>1.285</td>\n",
              "      <td>1.500</td>\n",
              "      <td>0.961</td>\n",
              "      <td>0.662</td>\n",
              "      <td>0.160</td>\n",
              "      <td>0.478</td>\n",
              "    </tr>\n",
              "    <tr>\n",
              "      <th>2</th>\n",
              "      <td>Denmark</td>\n",
              "      <td>7.646</td>\n",
              "      <td>1.327</td>\n",
              "      <td>1.503</td>\n",
              "      <td>0.979</td>\n",
              "      <td>0.665</td>\n",
              "      <td>0.243</td>\n",
              "      <td>0.495</td>\n",
              "    </tr>\n",
              "    <tr>\n",
              "      <th>3</th>\n",
              "      <td>Switzerland</td>\n",
              "      <td>7.560</td>\n",
              "      <td>1.391</td>\n",
              "      <td>1.472</td>\n",
              "      <td>1.041</td>\n",
              "      <td>0.629</td>\n",
              "      <td>0.269</td>\n",
              "      <td>0.408</td>\n",
              "    </tr>\n",
              "    <tr>\n",
              "      <th>4</th>\n",
              "      <td>Iceland</td>\n",
              "      <td>7.504</td>\n",
              "      <td>1.327</td>\n",
              "      <td>1.548</td>\n",
              "      <td>1.001</td>\n",
              "      <td>0.662</td>\n",
              "      <td>0.362</td>\n",
              "      <td>0.145</td>\n",
              "    </tr>\n",
              "    <tr>\n",
              "      <th>5</th>\n",
              "      <td>Norway</td>\n",
              "      <td>7.488</td>\n",
              "      <td>1.424</td>\n",
              "      <td>1.495</td>\n",
              "      <td>1.008</td>\n",
              "      <td>0.670</td>\n",
              "      <td>0.288</td>\n",
              "      <td>0.434</td>\n",
              "    </tr>\n",
              "    <tr>\n",
              "      <th>...</th>\n",
              "      <td>...</td>\n",
              "      <td>...</td>\n",
              "      <td>...</td>\n",
              "      <td>...</td>\n",
              "      <td>...</td>\n",
              "      <td>...</td>\n",
              "      <td>...</td>\n",
              "      <td>...</td>\n",
              "    </tr>\n",
              "    <tr>\n",
              "      <th>149</th>\n",
              "      <td>Central African Republic</td>\n",
              "      <td>3.476</td>\n",
              "      <td>0.041</td>\n",
              "      <td>0.000</td>\n",
              "      <td>0.000</td>\n",
              "      <td>0.293</td>\n",
              "      <td>0.254</td>\n",
              "      <td>0.028</td>\n",
              "    </tr>\n",
              "    <tr>\n",
              "      <th>150</th>\n",
              "      <td>Rwanda</td>\n",
              "      <td>3.312</td>\n",
              "      <td>0.343</td>\n",
              "      <td>0.523</td>\n",
              "      <td>0.572</td>\n",
              "      <td>0.604</td>\n",
              "      <td>0.236</td>\n",
              "      <td>0.486</td>\n",
              "    </tr>\n",
              "    <tr>\n",
              "      <th>151</th>\n",
              "      <td>Zimbabwe</td>\n",
              "      <td>3.299</td>\n",
              "      <td>0.426</td>\n",
              "      <td>1.048</td>\n",
              "      <td>0.375</td>\n",
              "      <td>0.377</td>\n",
              "      <td>0.151</td>\n",
              "      <td>0.081</td>\n",
              "    </tr>\n",
              "    <tr>\n",
              "      <th>152</th>\n",
              "      <td>South Sudan</td>\n",
              "      <td>2.817</td>\n",
              "      <td>0.289</td>\n",
              "      <td>0.553</td>\n",
              "      <td>0.209</td>\n",
              "      <td>0.066</td>\n",
              "      <td>0.210</td>\n",
              "      <td>0.111</td>\n",
              "    </tr>\n",
              "    <tr>\n",
              "      <th>153</th>\n",
              "      <td>Afghanistan</td>\n",
              "      <td>2.567</td>\n",
              "      <td>0.301</td>\n",
              "      <td>0.356</td>\n",
              "      <td>0.266</td>\n",
              "      <td>0.000</td>\n",
              "      <td>0.135</td>\n",
              "      <td>0.001</td>\n",
              "    </tr>\n",
              "  </tbody>\n",
              "</table>\n",
              "<p>153 rows × 8 columns</p>\n",
              "</div>"
            ],
            "text/plain": [
              "                     Country or region  ... Perceptions of corruption\n",
              "Overall rank                            ...                          \n",
              "1                              Finland  ...                     0.478\n",
              "2                              Denmark  ...                     0.495\n",
              "3                          Switzerland  ...                     0.408\n",
              "4                              Iceland  ...                     0.145\n",
              "5                               Norway  ...                     0.434\n",
              "...                                ...  ...                       ...\n",
              "149           Central African Republic  ...                     0.028\n",
              "150                             Rwanda  ...                     0.486\n",
              "151                           Zimbabwe  ...                     0.081\n",
              "152                        South Sudan  ...                     0.111\n",
              "153                        Afghanistan  ...                     0.001\n",
              "\n",
              "[153 rows x 8 columns]"
            ]
          },
          "metadata": {
            "tags": []
          },
          "execution_count": 36
        }
      ]
    },
    {
      "cell_type": "code",
      "metadata": {
        "colab": {
          "base_uri": "https://localhost:8080/"
        },
        "id": "uhmceV9jMMwL",
        "outputId": "88ce60de-378f-46d8-cd22-e7f8fd607354"
      },
      "source": [
        "#Note that each column is an object\n",
        "df.dtypes\n"
      ],
      "execution_count": null,
      "outputs": [
        {
          "output_type": "execute_result",
          "data": {
            "text/plain": [
              "Country or region               object\n",
              "Score                           object\n",
              "GDP per capita                  object\n",
              "Social support                  object\n",
              "Healthy life expectancy         object\n",
              "Freedom to make life choices    object\n",
              "Generosity                      object\n",
              "Perceptions of corruption       object\n",
              "dtype: object"
            ]
          },
          "metadata": {
            "tags": []
          },
          "execution_count": 37
        }
      ]
    },
    {
      "cell_type": "code",
      "metadata": {
        "colab": {
          "base_uri": "https://localhost:8080/"
        },
        "id": "5EqSBYmpwB_W",
        "outputId": "8e955f64-ffb4-4e7f-d135-4bf49e8a31ef"
      },
      "source": [
        "#Convert each numerical column to float64\n",
        "df[['Score','GDP per capita', 'Social support', 'Healthy life expectancy', 'Freedom to make life choices', 'Generosity', 'Perceptions of corruption']]= df [['Score','GDP per capita', 'Social support', 'Healthy life expectancy', 'Freedom to make life choices', 'Generosity', 'Perceptions of corruption']].apply(pd.to_numeric)\n",
        "df.dtypes\n",
        "#Note we now have the numerical columns as float"
      ],
      "execution_count": null,
      "outputs": [
        {
          "output_type": "execute_result",
          "data": {
            "text/plain": [
              "Country or region                object\n",
              "Score                           float64\n",
              "GDP per capita                  float64\n",
              "Social support                  float64\n",
              "Healthy life expectancy         float64\n",
              "Freedom to make life choices    float64\n",
              "Generosity                      float64\n",
              "Perceptions of corruption       float64\n",
              "dtype: object"
            ]
          },
          "metadata": {
            "tags": []
          },
          "execution_count": 38
        }
      ]
    },
    {
      "cell_type": "code",
      "metadata": {
        "colab": {
          "base_uri": "https://localhost:8080/",
          "height": 314
        },
        "id": "odBV8rwzwQgb",
        "outputId": "41716021-fdb9-4d12-a1a0-4c4eb177b7b9"
      },
      "source": [
        "#Now we can use .describe() to describe only the numerical columns\n",
        "df.describe()"
      ],
      "execution_count": null,
      "outputs": [
        {
          "output_type": "execute_result",
          "data": {
            "text/html": [
              "<div>\n",
              "<style scoped>\n",
              "    .dataframe tbody tr th:only-of-type {\n",
              "        vertical-align: middle;\n",
              "    }\n",
              "\n",
              "    .dataframe tbody tr th {\n",
              "        vertical-align: top;\n",
              "    }\n",
              "\n",
              "    .dataframe thead th {\n",
              "        text-align: right;\n",
              "    }\n",
              "</style>\n",
              "<table border=\"1\" class=\"dataframe\">\n",
              "  <thead>\n",
              "    <tr style=\"text-align: right;\">\n",
              "      <th></th>\n",
              "      <th>Score</th>\n",
              "      <th>GDP per capita</th>\n",
              "      <th>Social support</th>\n",
              "      <th>Healthy life expectancy</th>\n",
              "      <th>Freedom to make life choices</th>\n",
              "      <th>Generosity</th>\n",
              "      <th>Perceptions of corruption</th>\n",
              "    </tr>\n",
              "  </thead>\n",
              "  <tbody>\n",
              "    <tr>\n",
              "      <th>count</th>\n",
              "      <td>153.000000</td>\n",
              "      <td>153.000000</td>\n",
              "      <td>153.000000</td>\n",
              "      <td>153.000000</td>\n",
              "      <td>153.000000</td>\n",
              "      <td>153.000000</td>\n",
              "      <td>153.000000</td>\n",
              "    </tr>\n",
              "    <tr>\n",
              "      <th>mean</th>\n",
              "      <td>5.473255</td>\n",
              "      <td>0.868778</td>\n",
              "      <td>1.155562</td>\n",
              "      <td>0.692882</td>\n",
              "      <td>0.463542</td>\n",
              "      <td>0.189366</td>\n",
              "      <td>0.130719</td>\n",
              "    </tr>\n",
              "    <tr>\n",
              "      <th>std</th>\n",
              "      <td>1.112288</td>\n",
              "      <td>0.372418</td>\n",
              "      <td>0.286862</td>\n",
              "      <td>0.254111</td>\n",
              "      <td>0.141139</td>\n",
              "      <td>0.100433</td>\n",
              "      <td>0.113087</td>\n",
              "    </tr>\n",
              "    <tr>\n",
              "      <th>min</th>\n",
              "      <td>2.567000</td>\n",
              "      <td>0.000000</td>\n",
              "      <td>0.000000</td>\n",
              "      <td>0.000000</td>\n",
              "      <td>0.000000</td>\n",
              "      <td>0.000000</td>\n",
              "      <td>0.000000</td>\n",
              "    </tr>\n",
              "    <tr>\n",
              "      <th>25%</th>\n",
              "      <td>4.724000</td>\n",
              "      <td>0.576000</td>\n",
              "      <td>0.987000</td>\n",
              "      <td>0.495000</td>\n",
              "      <td>0.381000</td>\n",
              "      <td>0.115000</td>\n",
              "      <td>0.056000</td>\n",
              "    </tr>\n",
              "    <tr>\n",
              "      <th>50%</th>\n",
              "      <td>5.515000</td>\n",
              "      <td>0.919000</td>\n",
              "      <td>1.204000</td>\n",
              "      <td>0.760000</td>\n",
              "      <td>0.483000</td>\n",
              "      <td>0.177000</td>\n",
              "      <td>0.098000</td>\n",
              "    </tr>\n",
              "    <tr>\n",
              "      <th>75%</th>\n",
              "      <td>6.228000</td>\n",
              "      <td>1.169000</td>\n",
              "      <td>1.387000</td>\n",
              "      <td>0.867000</td>\n",
              "      <td>0.577000</td>\n",
              "      <td>0.256000</td>\n",
              "      <td>0.163000</td>\n",
              "    </tr>\n",
              "    <tr>\n",
              "      <th>max</th>\n",
              "      <td>7.809000</td>\n",
              "      <td>1.537000</td>\n",
              "      <td>1.548000</td>\n",
              "      <td>1.138000</td>\n",
              "      <td>0.693000</td>\n",
              "      <td>0.570000</td>\n",
              "      <td>0.533000</td>\n",
              "    </tr>\n",
              "  </tbody>\n",
              "</table>\n",
              "</div>"
            ],
            "text/plain": [
              "            Score  GDP per capita  ...  Generosity  Perceptions of corruption\n",
              "count  153.000000      153.000000  ...  153.000000                 153.000000\n",
              "mean     5.473255        0.868778  ...    0.189366                   0.130719\n",
              "std      1.112288        0.372418  ...    0.100433                   0.113087\n",
              "min      2.567000        0.000000  ...    0.000000                   0.000000\n",
              "25%      4.724000        0.576000  ...    0.115000                   0.056000\n",
              "50%      5.515000        0.919000  ...    0.177000                   0.098000\n",
              "75%      6.228000        1.169000  ...    0.256000                   0.163000\n",
              "max      7.809000        1.537000  ...    0.570000                   0.533000\n",
              "\n",
              "[8 rows x 7 columns]"
            ]
          },
          "metadata": {
            "tags": []
          },
          "execution_count": 39
        }
      ]
    },
    {
      "cell_type": "code",
      "metadata": {
        "id": "5TglSrLmw18N"
      },
      "source": [
        "#Export as csv\n",
        "df.to_csv('World Happiness Report.csv')"
      ],
      "execution_count": null,
      "outputs": []
    }
  ]
}